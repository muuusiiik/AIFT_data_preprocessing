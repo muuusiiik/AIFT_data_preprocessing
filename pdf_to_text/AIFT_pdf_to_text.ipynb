{
  "nbformat": 4,
  "nbformat_minor": 0,
  "metadata": {
    "colab": {
      "provenance": []
    },
    "kernelspec": {
      "name": "python3",
      "display_name": "Python 3"
    },
    "language_info": {
      "name": "python"
    }
  },
  "cells": [
    {
      "cell_type": "markdown",
      "source": [
        "# INSTALL NECESSARY PACKAGES"
      ],
      "metadata": {
        "id": "xzRbhCEi1y-C"
      }
    },
    {
      "cell_type": "code",
      "execution_count": 4,
      "metadata": {
        "colab": {
          "base_uri": "https://localhost:8080/"
        },
        "id": "qIa5Sp5ssCa3",
        "outputId": "cb2df3c7-ae20-48cb-bbad-52a6c9189b86"
      },
      "outputs": [
        {
          "output_type": "stream",
          "name": "stdout",
          "text": [
            "Reading package lists... Done\n",
            "Building dependency tree... Done\n",
            "Reading state information... Done\n",
            "tesseract-ocr is already the newest version (4.1.1-2.1build1).\n",
            "0 upgraded, 0 newly installed, 0 to remove and 34 not upgraded.\n",
            "Reading package lists... Done\n",
            "Building dependency tree... Done\n",
            "Reading state information... Done\n",
            "The following additional packages will be installed:\n",
            "  libarchive-dev libleptonica-dev\n",
            "The following NEW packages will be installed:\n",
            "  libarchive-dev libleptonica-dev libtesseract-dev\n",
            "0 upgraded, 3 newly installed, 0 to remove and 34 not upgraded.\n",
            "Need to get 3,743 kB of archives.\n",
            "After this operation, 16.0 MB of additional disk space will be used.\n",
            "Get:1 http://archive.ubuntu.com/ubuntu jammy-updates/main amd64 libarchive-dev amd64 3.6.0-1ubuntu1.3 [581 kB]\n",
            "Get:2 http://archive.ubuntu.com/ubuntu jammy/universe amd64 libleptonica-dev amd64 1.82.0-3build1 [1,562 kB]\n",
            "Get:3 http://archive.ubuntu.com/ubuntu jammy/universe amd64 libtesseract-dev amd64 4.1.1-2.1build1 [1,600 kB]\n",
            "Fetched 3,743 kB in 2s (2,138 kB/s)\n",
            "debconf: unable to initialize frontend: Dialog\n",
            "debconf: (No usable dialog-like program is installed, so the dialog based frontend cannot be used. at /usr/share/perl5/Debconf/FrontEnd/Dialog.pm line 78, <> line 3.)\n",
            "debconf: falling back to frontend: Readline\n",
            "debconf: unable to initialize frontend: Readline\n",
            "debconf: (This frontend requires a controlling tty.)\n",
            "debconf: falling back to frontend: Teletype\n",
            "dpkg-preconfigure: unable to re-open stdin: \n",
            "Selecting previously unselected package libarchive-dev:amd64.\n",
            "(Reading database ... 126332 files and directories currently installed.)\n",
            "Preparing to unpack .../libarchive-dev_3.6.0-1ubuntu1.3_amd64.deb ...\n",
            "Unpacking libarchive-dev:amd64 (3.6.0-1ubuntu1.3) ...\n",
            "Selecting previously unselected package libleptonica-dev.\n",
            "Preparing to unpack .../libleptonica-dev_1.82.0-3build1_amd64.deb ...\n",
            "Unpacking libleptonica-dev (1.82.0-3build1) ...\n",
            "Selecting previously unselected package libtesseract-dev:amd64.\n",
            "Preparing to unpack .../libtesseract-dev_4.1.1-2.1build1_amd64.deb ...\n",
            "Unpacking libtesseract-dev:amd64 (4.1.1-2.1build1) ...\n",
            "Setting up libleptonica-dev (1.82.0-3build1) ...\n",
            "Setting up libarchive-dev:amd64 (3.6.0-1ubuntu1.3) ...\n",
            "Setting up libtesseract-dev:amd64 (4.1.1-2.1build1) ...\n",
            "Processing triggers for man-db (2.10.2-1) ...\n",
            "Reading package lists... Done\n",
            "Building dependency tree... Done\n",
            "Reading state information... Done\n",
            "The following NEW packages will be installed:\n",
            "  tesseract-ocr-tha\n",
            "0 upgraded, 1 newly installed, 0 to remove and 34 not upgraded.\n",
            "Need to get 899 kB of archives.\n",
            "After this operation, 1,087 kB of additional disk space will be used.\n",
            "Get:1 http://archive.ubuntu.com/ubuntu jammy/universe amd64 tesseract-ocr-tha all 1:4.00~git30-7274cfa-1.1 [899 kB]\n",
            "Fetched 899 kB in 1s (765 kB/s)\n",
            "debconf: unable to initialize frontend: Dialog\n",
            "debconf: (No usable dialog-like program is installed, so the dialog based frontend cannot be used. at /usr/share/perl5/Debconf/FrontEnd/Dialog.pm line 78, <> line 1.)\n",
            "debconf: falling back to frontend: Readline\n",
            "debconf: unable to initialize frontend: Readline\n",
            "debconf: (This frontend requires a controlling tty.)\n",
            "debconf: falling back to frontend: Teletype\n",
            "dpkg-preconfigure: unable to re-open stdin: \n",
            "Selecting previously unselected package tesseract-ocr-tha.\n",
            "(Reading database ... 126465 files and directories currently installed.)\n",
            "Preparing to unpack .../tesseract-ocr-tha_1%3a4.00~git30-7274cfa-1.1_all.deb ...\n",
            "Unpacking tesseract-ocr-tha (1:4.00~git30-7274cfa-1.1) ...\n",
            "Setting up tesseract-ocr-tha (1:4.00~git30-7274cfa-1.1) ...\n",
            "Reading package lists... Done\n",
            "Building dependency tree... Done\n",
            "Reading state information... Done\n",
            "The following NEW packages will be installed:\n",
            "  poppler-utils\n",
            "0 upgraded, 1 newly installed, 0 to remove and 34 not upgraded.\n",
            "Need to get 186 kB of archives.\n",
            "After this operation, 696 kB of additional disk space will be used.\n",
            "Get:1 http://archive.ubuntu.com/ubuntu jammy-updates/main amd64 poppler-utils amd64 22.02.0-2ubuntu0.7 [186 kB]\n",
            "Fetched 186 kB in 1s (220 kB/s)\n",
            "debconf: unable to initialize frontend: Dialog\n",
            "debconf: (No usable dialog-like program is installed, so the dialog based frontend cannot be used. at /usr/share/perl5/Debconf/FrontEnd/Dialog.pm line 78, <> line 1.)\n",
            "debconf: falling back to frontend: Readline\n",
            "debconf: unable to initialize frontend: Readline\n",
            "debconf: (This frontend requires a controlling tty.)\n",
            "debconf: falling back to frontend: Teletype\n",
            "dpkg-preconfigure: unable to re-open stdin: \n",
            "Selecting previously unselected package poppler-utils.\n",
            "(Reading database ... 126469 files and directories currently installed.)\n",
            "Preparing to unpack .../poppler-utils_22.02.0-2ubuntu0.7_amd64.deb ...\n",
            "Unpacking poppler-utils (22.02.0-2ubuntu0.7) ...\n",
            "Setting up poppler-utils (22.02.0-2ubuntu0.7) ...\n",
            "Processing triggers for man-db (2.10.2-1) ...\n"
          ]
        }
      ],
      "source": [
        "!sudo apt-get install -y tesseract-ocr\n",
        "!sudo apt-get install -y libtesseract-dev\n",
        "!sudo apt-get install -y tesseract-ocr-tha\n",
        "!sudo apt-get install -y poppler-utils"
      ]
    },
    {
      "cell_type": "code",
      "source": [
        "!pip install pytesseract\n",
        "!pip install pdf2image\n",
        "!pip install langdetect"
      ],
      "metadata": {
        "colab": {
          "base_uri": "https://localhost:8080/"
        },
        "id": "sZOicaF6uZYS",
        "outputId": "6b589aa9-1d31-4ab8-ab41-456e9db726b4"
      },
      "execution_count": 6,
      "outputs": [
        {
          "output_type": "stream",
          "name": "stdout",
          "text": [
            "Collecting pytesseract\n",
            "  Downloading pytesseract-0.3.13-py3-none-any.whl.metadata (11 kB)\n",
            "Requirement already satisfied: packaging>=21.3 in /usr/local/lib/python3.11/dist-packages (from pytesseract) (24.2)\n",
            "Requirement already satisfied: Pillow>=8.0.0 in /usr/local/lib/python3.11/dist-packages (from pytesseract) (11.1.0)\n",
            "Downloading pytesseract-0.3.13-py3-none-any.whl (14 kB)\n",
            "Installing collected packages: pytesseract\n",
            "Successfully installed pytesseract-0.3.13\n",
            "Collecting pdf2image\n",
            "  Downloading pdf2image-1.17.0-py3-none-any.whl.metadata (6.2 kB)\n",
            "Requirement already satisfied: pillow in /usr/local/lib/python3.11/dist-packages (from pdf2image) (11.1.0)\n",
            "Downloading pdf2image-1.17.0-py3-none-any.whl (11 kB)\n",
            "Installing collected packages: pdf2image\n",
            "Successfully installed pdf2image-1.17.0\n",
            "Collecting langdetect\n",
            "  Downloading langdetect-1.0.9.tar.gz (981 kB)\n",
            "\u001b[2K     \u001b[90m━━━━━━━━━━━━━━━━━━━━━━━━━━━━━━━━━━━━━━\u001b[0m \u001b[32m981.5/981.5 kB\u001b[0m \u001b[31m16.9 MB/s\u001b[0m eta \u001b[36m0:00:00\u001b[0m\n",
            "\u001b[?25h  Preparing metadata (setup.py) ... \u001b[?25l\u001b[?25hdone\n",
            "Requirement already satisfied: six in /usr/local/lib/python3.11/dist-packages (from langdetect) (1.17.0)\n",
            "Building wheels for collected packages: langdetect\n",
            "  Building wheel for langdetect (setup.py) ... \u001b[?25l\u001b[?25hdone\n",
            "  Created wheel for langdetect: filename=langdetect-1.0.9-py3-none-any.whl size=993223 sha256=dd1daa9e6e5910e4af31fde7c44ca2106653adb920137dc885cde49c83514d48\n",
            "  Stored in directory: /root/.cache/pip/wheels/0a/f2/b2/e5ca405801e05eb7c8ed5b3b4bcf1fcabcd6272c167640072e\n",
            "Successfully built langdetect\n",
            "Installing collected packages: langdetect\n",
            "Successfully installed langdetect-1.0.9\n"
          ]
        }
      ]
    },
    {
      "cell_type": "markdown",
      "source": [
        "# SETUP OCR CODE\n",
        "more info\n",
        "* [tesseract github](https://github.com/tesseract-ocr/tesseract?tab=readme-ov-file#running-tesseract)\n",
        "* [page segmentation modes (psm)](https://pyimagesearch.com/2021/11/15/tesseract-page-segmentation-modes-psms-explained-how-to-improve-your-ocr-accuracy/)"
      ],
      "metadata": {
        "id": "sKYyW5vX2O-M"
      }
    },
    {
      "cell_type": "code",
      "source": [
        "import pytesseract\n",
        "from pdf2image import convert_from_path\n",
        "from PIL import Image\n",
        "from langdetect import detect_langs\n",
        "import concurrent.futures\n",
        "import os,json"
      ],
      "metadata": {
        "id": "Az-9TtcUtSUu"
      },
      "execution_count": 7,
      "outputs": []
    },
    {
      "cell_type": "code",
      "source": [
        "psm = '--psm 3'\n",
        "tessdata_dir_config = r'--tessdata-dir \"/usr/share/tesseract-ocr/4.00/tessdata\" ' + psm\n",
        "\n",
        "def ocr_page(index, image, tessdata_dir_config):\n",
        "    # Convert image to RGB format (required by pytesseract)\n",
        "    image = image.convert('RGB')\n",
        "\n",
        "    # Perform OCR using Tesseract and specify the Thai language\n",
        "    page_text = pytesseract.image_to_string(image, lang='tha+eng', config=tessdata_dir_config)\n",
        "\n",
        "    return index, page_text\n",
        "\n",
        "def pdf_to_text(pdf_path):\n",
        "    # Convert PDF to a list of images\n",
        "    images = convert_from_path(\n",
        "        pdf_path,\n",
        "        # dpi=300,\n",
        "        # grayscale=True,\n",
        "    )\n",
        "\n",
        "    # Resize images to speed up OCR\n",
        "    resized_images = images.copy()\n",
        "    resized_images = [image.resize((image.width // 2, image.height // 2)) for image in images]\n",
        "\n",
        "    # Initialize an empty string to store the extracted text\n",
        "    text = \"\"\n",
        "\n",
        "    # Use parallel processing to handle multiple pages simultaneously\n",
        "    # with concurrent.futures.ThreadPoolExecutor() as executor:\n",
        "    #     futures = {executor.submit(ocr_page, idx, image, tessdata_dir_config): idx for idx, image in enumerate(resized_images, start=1)}\n",
        "    #     ocr_results = {}\n",
        "    #     for future in concurrent.futures.as_completed(futures):\n",
        "\n",
        "    #         ocr_results[i] = page_text\n",
        "\n",
        "    #         sorted_results = sorted(ocr_results.items())\n",
        "    #     print(\"create text starting...\")\n",
        "    #     for i, page_text in sorted_results:\n",
        "    #         text += f\"--- Page {i} ---\\n{page_text}\\n\"\n",
        "    ocr_results = {}\n",
        "    for idx, image in enumerate(resized_images, start=1):\n",
        "        i, page_text = ocr_page(idx, image, tessdata_dir_config)\n",
        "        ocr_results[i] = page_text\n",
        "\n",
        "\n",
        "    return ocr_results"
      ],
      "metadata": {
        "id": "Kx3Z2kv2t6v6"
      },
      "execution_count": 8,
      "outputs": []
    },
    {
      "cell_type": "markdown",
      "source": [
        "# MOUNT DRIVE\n",
        "* mount drive\n",
        "* upload pdf file"
      ],
      "metadata": {
        "id": "grhEqoT02gDs"
      }
    },
    {
      "cell_type": "code",
      "source": [
        "from google.colab import drive\n",
        "drive.mount('/content/drive')"
      ],
      "metadata": {
        "colab": {
          "base_uri": "https://localhost:8080/"
        },
        "id": "TmvFuTugu72-",
        "outputId": "b5968dee-d35a-4c07-a329-cf26944625cf"
      },
      "execution_count": 16,
      "outputs": [
        {
          "output_type": "stream",
          "name": "stdout",
          "text": [
            "Drive already mounted at /content/drive; to attempt to forcibly remount, call drive.mount(\"/content/drive\", force_remount=True).\n"
          ]
        }
      ]
    },
    {
      "cell_type": "code",
      "source": [
        "os.listdir()"
      ],
      "metadata": {
        "colab": {
          "base_uri": "https://localhost:8080/"
        },
        "id": "JgRJspMyEBby",
        "outputId": "641e088f-e61a-455a-d187-3e9a0f7c7054"
      },
      "execution_count": 20,
      "outputs": [
        {
          "output_type": "execute_result",
          "data": {
            "text/plain": [
              "['.config',\n",
              " 'drive',\n",
              " 'นักวิจัยดีเด่น2566.pdf',\n",
              " '256802210854304054591.pdf',\n",
              " '.ipynb_checkpoints',\n",
              " 'sample_data']"
            ]
          },
          "metadata": {},
          "execution_count": 20
        }
      ]
    },
    {
      "cell_type": "markdown",
      "source": [
        "# DO OCR"
      ],
      "metadata": {
        "id": "MFNmI_vz2rFd"
      }
    },
    {
      "cell_type": "code",
      "source": [
        "%%time\n",
        "file_path = '/content/sample_data/581065.pdf'\n",
        "# file_path = '/content/นักวิจัยดีเด่น2566.pdf'\n",
        "output = pdf_to_text(file_path)\n",
        "output"
      ],
      "metadata": {
        "colab": {
          "base_uri": "https://localhost:8080/"
        },
        "id": "AFhGpbamGmrn",
        "outputId": "8f23ca2e-7811-4a24-e455-a6db3df1f47a"
      },
      "execution_count": 26,
      "outputs": [
        {
          "output_type": "stream",
          "name": "stdout",
          "text": [
            "CPU times: user 4.71 s, sys: 1.57 s, total: 6.28 s\n",
            "Wall time: 3min 52s\n"
          ]
        },
        {
          "output_type": "execute_result",
          "data": {
            "text/plain": [
              "{1: ' \\n\\n \\n\\n \\n\\nรายงานวิจัยฉบับสมบูรณ์\\n\\n4          ay\\nชื่อโครงการวิจัย\\n\\nภายใต้แผนงานแผนปฏิบัติการด้านวิทยาศาสตร์ วิจัยและนวัตกรรม ของหน่วยงาน\\nมหาวิทยาลัยนวมินทราธิราช ปีงบประมาณ 2567\\n\\nชื่อผู้วิจัย/คณะผู้วิจัย\\n\\nผู้ช่วยศาสตราจารย์ฐาปนี เริงฤทธิ์\\nผู้ช่วยศาสตราจารย์เผดิมวุฒิ ธีระวงศ์สกุล\\nนางสาวอภิญญา ชีวะพันธ์\\nทุนเงินอุดหนุนการทํากิจกรรมส่งเสริมและสนับสนุนการพัฒนาวิทยาศาสตร์ วิจัยและ\\n\\nนวัตกรรม (ววน.) ประจําปีงบประมาณ 2567\\n\\n \\n\\n \\n\\x0c',\n",
              " 2: ' \\n\\n \\n\\n \\n\\nรายงานวิจัยฉบับสมบูรณ์\\n\\n4          ay\\nชื่อโครงการวิจัย\\n\\nบทบาทของการอักเสบ ภาวะเครียดออกซิเดชัน และองค์ประกอบของกรดไขมันในภาวะหัวใจ\\nห้องบนเต้นพลิวผิดจังหวะ (โก6 ๐!@๑ ๐ !กก็ลทาทาลน์เอท, oxidative stress and fatty acid\\n\\nprofile in atrial fibrillation)\\n\\nภายใต้แผนงานแผนปฏิบัติการด้านวิทยาศาสตร์ วิจัยและนวัตกรรม ของหน่วยงาน\\n\\nมหาวิทยาลัยนวมินทราธิราช ปีงบประมาณ 2567\\ndates,   ue\\n\\nชื่อผู้วิจัย/คณะผู้วิจัย\\n\\nซ่         สาจ[บี เริงฤทธิ์\\n\\nผู้ช่วยศาสตราจารย์ฐาปนี เริงฤทธิ์\\n\\nผู้ช่วยศาสตราจารย์เผดิมวุฒิ ธีระวงศ์สกุล\\n\\nนางสาวอภิญญา ชีวะพันธ์\\n\\nทุนเงินอุดหนุนการทํากิจกรรมส่งเสริมและสนับสนุนการพัฒนาวิทยาศาสตร์ วิจัยและ\\n\\nนวัตกรรม (ววน.) ประจําปีงบประมาณ 2567\\n\\n \\n\\n \\n\\x0c',\n",
              " 3: 'บทสรุปผู้บริหารภาษาไทย\\n\\nภาวะหัวใจเต้น ห้องบนเต้นพลิ้วผิดจังหวะ (ลเก่อ| กิอกแลน์๐๓: /เ) เป็นภาวะหัวใจเต้นผิดจังหวะที่ม\\nอุบัติการณ์พบบ่อยที่สุด สามารถพบได้ร้อยละ 1-3 ของประชากร โดยจะเพิ่มขึ้นตามอายุ และพบได้มากใน\\nประชากรเขตเมืองมากกว่าเขตชนบท สาเหตุเกิดจากหัวใจห้องบนมีการส่งสัญญาณกระตุ้นที่ผิดปกติเป็นจํานวน\\nมาก ส่งผลทําให้เกิดภาวะหัวใจห้องบนเต้นหลิ้ว ซึ่งเป็นการเพิ่มความเสี่ยงต่อการเกิดลิ่มเลือด (010ฝก1๐กา๒6ย่๐\\n5เ81@) นอกจากนี้การที่หัวใจห้องบนเต้นพลิ้วจะส่งผลให้หัวใจห้องล่างเต้นเร็วแบบจังหวะการเต้นของหัวใจไม่\\nสม่าเสมอ ทําให้ปริมาณเลือดที่บีบออกจากหัวใจลดลง กระทบต่อกลศาสตร์การไหลของเลือด (ก๕กา๐สหกลกข่๐\\nเรในท่วลก๐@) นอกจากความผิดปกติที่เกิดขึ้นหัวใจแล้ว ผู้ป่วยหัวใจห้องบนเต้นพลิ้วมักจะพบว่ามีภาวะความ\\n\\nผิดปกติของการทํางานของผนังหลอดเลือด (อกส่๐ปก๕ป่อ| สษ์นท๕น์อก) ร่วมด้วย โดยผู้ป่วยที่มีหัวใจห้องบนเต้น\\n\\nพลิ้วนั้นมีความสัมพันธ์กับความเจ็บป่วยและการเสียชีวิตเนื่องจากโรคหลอดเลือดสมอง (5๒๐6@) ดังนั้นการ\\nประเมินโอกาสในการเกิดโรคหลอดเลือดสมองตีบซึ่งมีสาเหตุจากภาวะหัวใจห้องบนเต้นพลิ้วจึงมีความสําคัญ\\nสําหรับหลักเกณฑ์ในการประเมินความเสี่ยงของการเกิดโรคหลอดเลือดสมองตีบในหัวใจห้องบนเต้นพลิ้วที่ได้รับ\\nการยอมรับในปัจจุบัน คือ 6พล2052-ง5๐\\n\\nภาวะหัวใจห้องบนเต้นหลิ้วยังมีความสัมพันธ์กับภาวะเครียดออกซิเดชัน (๐4ฮ่ลยับ@ stress) wines\\nอนุมูลอิสระมากเกินไปหรือมีสารต้านอนุมูลอิสระน้อยเกินไปจะชักนําให้เกิดกระบวนการอักเสบของผนังหลอด\\nเลือด โดยความไม่สมดุลระหว่างสารอนุมูลอิสระและสารต้านอนุมูลอิสระมีผลต่อโครงสร้างและกลไกการทํางาน\\nของผนังหลอดเลือด ทําเกิดการแตกหักและสะสมของ 1ก๋ง๒๐๐ก์อ@ และ ๐๐165๐๐| เพิ่มขึ้น มีการเสื่อมของ\\nเนื้อเยื่ออีลาสทิน และการพัฒนาของเนื้อเยื่อไฟบรัส ทําให้เซลล์กล้ามเนื้อเรียบของหลอดเลือดแดงเพิ่มจํานวนและ\\nมีขนาดใหญ่ขึ้น ร่วมกับการเสื่อมสภาพขององค์ประกอบในผนังหลอดเลือดแดงทําให้สูญเสียความยืดหยุ่น เกิด\\nพยาธิสภาพของหลอดเลือดและเซลล์เยื่อบุหลอดเลือดทํางานผิดปกติ (๑กส่๐ปก๐[อ ส่ษร์นทอน่อก) นอกจากนี้\\nสารอนุมูลอิสระจะมีความว่องไวในการทําปฏิกิริยาสูงทําให้เกิดความเสียหายต่อเยื่อหุ้มเซลล์ เกิดกระบวนการ\\n\\ntips\\n\\n \\n\\n๑ย่ฮ่อน่อท แต่หากร่างกายมีสารต้านอนุมูลอิสระสูงจะช่วยในการต้านต่อการเกิดภาวะเครียดออกซิเดขัน\\nและต้านต่อการเกิด @กส่๐!ก6น่อ| สษ์นท๕น์อท ได้ และสารต้านอนุมูลอิสระนั้นจะช่วยในการปกป้องการเกิด\\nventricular แอทาอส่อนท6 ซึ่งผู้ป่วยที่มีกล้ามเนื้อหัวใจหนาผิดปกติ จะส่งผลต่อความสามารถในการบีบตัวของ\\nYala (ejection fraction) ซึ่งมีความสัมพันธ์กับภาวะหัวใจวาย\\n\\nเมื่อพิจารณาโรคในระบบหัวใจและหลอดเลือด ยังพบว่ามีความสัมพันธ์กับกรดไขมันอื่มตัว (5665) จาก\\nรายงานพบว่า ปริมาณที่แตกต่างกันของกรดไขมันอิ่มตัวภายในเลือดส่งผลต่อความสัมพันธ์กับโรคหัวใจและเมตา\\nบอลิซึม โดยพบว่ากรดไขมันที่มีคาร์บอนอะตอมเป็นจํานวนเลขคี่ (๐สส ๐กลเก ก์อยญ/ อ๓๕5) อาจมีส่วนช่วยในการ\\nลดความเสี่ยงต่อการเกิดโรคหัวใจและหลอดเลือด แต่ในขณะเดียวกันปริมาณของกรดไขมันอื่มตัวหรือกรดไขมัน\\n\\x0c',\n",
              " 4: 'สายยาวกลับเพิ่มความเสี่ยงต่อการเกิดโรคหัวใจและหลอดเลือดได้เพิ่มมากขึ้น ซิ่งเป็นปัจจัยเสี่ยงที่เกี่ยวข้องกับ\\nโอกาสในการเกิดหัวใจห้องบนเต้นหลิ้ว\\n\\nการศึกษาส่วนใหญ่มักจะเปรียบเทียบระหว่างผู้ป่วยที่มีและไม่มีภาวะหัวใจห้องบนเต้นพลิ้วผิดจังหวะ หรือ\\nเป็นการแบ่งกลุ่มตามประเภทของภาวะหัวใจห้องบนเต้นพลิ้วผิดจังหวะ แต่สําหรับการเปรียบเทียบการอักเสบ\\nภาวะเครียดออกซิเดชัน และองค์ประกอบของกรดไขมัน โดยแบ่งกลุ่มด้วยเกณฑ์ (ล2052-/656 ตามระดับ\\nความเสี่ยงการเกิดหลอดเลือดสมอง ยังไม่พบการศึกษาในประชากรไทย ซึ่งผลของการศึกษาครั้งนี้น่าจะมีส่วน\\nช่วยในการวางแผนป้องกันความเสี่ยงด้านสุขภาพตั้งแต่ระยะแรก นําไปสู่การให้ความรู้และแนะนําการปฏิบัติตนที่\\n\\nลูกต้อง รวมทั้งการรักษาให้เหมาะสม\\n\\x0c',\n",
              " 5: 'บทสรุปผู้บริหารภาษาอังกฤษ\\nAtrial fibrillation (AF) is the most common arrhythmia, affecting 1-3% of the population,\\n\\nwith prevalence increasing with age and more prevalent in urban than rural populations. It\\n\\n \\n\\noriginates from abnormal electrical impulses in the atria, leading to irregular heartbeats and a\\nprothrombotic state, increasing the risk of stroke. AF also affects the ventricles, causing irregular\\nheart rhythms and reducing blood pumping efficiency, impacting hemodynamic flow. Besides\\ncardiac abnormalities, AF patients often experience endothelial dysfunction, linked to an\\nincreased risk of cardiovascular events, particularly stroke. Therefore, assessing the risk of stroke,\\nespecially due to AF, is crucial using the CHA2DS2-VASc score.\\n\\nAF is also associated with oxidative stress; excessive free radicals or inadequate\\nantioxidants can cause vascular wall inflammation, lipid accumulation, and endothelial\\ndysfunction. High antioxidant levels, however, protect against oxidative stress and endothelial\\ndysfunction, potentially preventing ventricular remodeling.\\n\\nWhen considering cardiovascular diseases, there is also a relationship with saturated fatty\\nacids (SFAs). Reports indicate that varying levels of SFAs in the blood affect the correlation\\nbetween heart disease and metabolism. Odd-chain fatty acids, which contain an odd number of\\ncarbon atoms, may help reduce the risk of cardiovascular diseases. Conversely, higher levels of\\nsaturated fatty acids or long-chain fatty acids increase the risk of heart and vascular diseases.\\nThese are risk factors associated with the likelihood of developing atrial fibrillation.\\n\\nMost studies often compare patients with and without atrial fibrillation arrhythmia or\\ncategorize them based on the type of arrhythmia. However, studies comparing inflammation,\\noxidative stress, and fatty acid components by categorizing them with the CHA2DS2-VASc criteria\\nfor stroke risk have not been found in the Thai population. The findings from such studies are\\nlikely to contribute to early health risk prevention planning, providing knowledge and\\n\\nrecommending appropriate practices, as well as ensuring proper treatment.\\n\\x0c',\n",
              " 6: 'บทคัดย่อภาษาไทย\\n\\nภาวะหัวใจเต้นห้องบนเต้นพลิ้วผิดจังหวะ (๑เก่อ| ก๊อก์แลย์อก: /เ) พบว่ามีภาวะความผิดปกติของการ\\nทํางานของผนังหลอดเลือด (๑กส่อป่า6ปอ| สร์นท๕นอท) ร่วมด้วย ผู้ป่วยที่มีหัวใจห้องบนเต้นพลิ้วนั้นมี\\nความสัมพันธ์กับความเจ็บป่วยและการเสียชีวิตเนื่องจากโรคหลอดเลือดสมอง (5๒๐6๐) ภาวะหัวใจห้องบนเต้น\\nพลิ้วยังมีความสัมพันธ์กับภาวะเครียดออกซิเดขัน (๐วออยง@ 5๐55) นอกจากนี้ภาวะหัวใจห้องบนเต้นพลิ้วมี\\nความสัมพันธ์กับกรดไขมันอิ่มตัว (565) วัตถุประสงค์การวิจัย เพื่อเปรียบเทียบการอักเสบ ภาวะเครียด\\nออกซิเดชัน และองค์ประกอบของกรดไขมันในผู้ป่วยภาวะหัวใจห้องบนเต้นพลิ้วผิดจังหวะกับผู้ป่วยที่ไม่มีภาวะ\\nหัวใจห้องบนเต้นพลิ้วผิดจังหวะ วิธีการทดลอง อาสาสมัครจะถูกสัมภาษณ์เพื่อให้ข้อมูลเกี่ยวกับประวัติสุขภาพ\\nประวัติทั่วไป รวมทั้งจะได้รับการตรวจสัญญาณชีพ และการเจาะเก็บตัวอย่างเลือดเลือด เพื่อวิเคราะห์ผลเลือด\\nได้แก่ กล5นทร plasma glucose, lipid profile, โลฟัษ/ ลดเต่ เวหอกิไ6, ทร-69, !|0#, และ 500 สําหรับผลการ\\n\\nสัมภาษณ์ จะนํามาคํานวณตามเกณฑ์ 2052-ง56 โดยการแบ่งอาสาสมัครเป็น 2\\n\\n \\n\\nAo 1ลุ่มที่ผู้ป่วย\\n\\nภาวะหัวใจห้องบนเต้นหลิ้วผิดจังหวะ (6 ๑๐น0) กับผู้ป่วยที่ไม่มีภาวะหัวใจห้องบนเต้นหลิ้วผิดจังหวะ (กอก-/\\n\\nอนด) ซึ่งทั้งสองกลุ่มจะได้การประเมิน ก๐เ-กา6สไล1@ส สลเธน์อท (ทีพ!0) และ 6ิต่า๐๕ลแต่!0ดเลทก และค่า\\n1ะแนนความเสี่ยงการเกิดหลอดเลือดสมองตีบที่อาสาสมัครทั้ง 2 กลุ่มได้รับการประเมิน จะถูกแบ่งตามระดับ\\n\\nความเสี่ยงตํา ระดับความเสี่ยงปานกลาง และระดับความเสี่ยงสูง\\n\\x0c',\n",
              " 7: 'บทคัดย่อภาษาอังกฤษ\\n\\nAtrial fibrillation (AF) is associated with endothelial dysfunction, which affects the\\nfunction of blood vessel walls. Patients with AF have a correlation with increased risk of illness\\nand mortality due to stroke. Additionally, AF is linked to oxidative stress. Furthermore, AF\\n\\ncorrelates with saturated fatty acids (SFAs). Objectives: To compare inflammation, oxi\\n\\n \\n\\native\\nstress, and fatty acid components in patients with atrial fibrillation (AF) against those without AF.\\nMethod: The experimental procedure involves interviewing subjects to gather health histories\\nand general information. Subjects will undergo vital signs assessment and blood sampling for\\nanalysis, including fasting plasma glucose, lipid profile, fatty acid profile, hs-CRP, MDA, and SOD.\\nSubjects will be evaluated according to the CHA2DS2-VASc score and will be categorized into\\ntwo groups: those with atrial fibrillation (AF group) and those without (non-AF group). Both\\ngroups will undergo assessments flow-mediated dilatation (FMD) and echocardiography.\\nFurthermore, both groups will be evaluated based on their risk levels for stroke, categorized as\\n\\nlow, moderate, or high risk.\\n\\x0c',\n",
              " 8: 'กิตติกรรมประกาศ\\n\\nงานวิจัยนี้สําเร็จลุล่วงด้วยดีต้องขอขอบคุณสํานักงานคณะกรรมการส่งเสริมวิทยาศาสตร์ วิจัยและนวัตกรรม\\n\\n(สกสว.) ที่มอบทุนอุดหนุนการทํากิจกรรมส่งเสริมและสนับสนุนการพัฒนาวิทยาศาสตร์ วิจัยและนวัตกรรม (ววน.)\\nประจําปีงบประมาณ 2567 และมหาวิทยาลัยนวมินทราธิราช\\n\\nผู้ช่วยศาสตราจารย์ฐาปนี เริงฤทธิ์\\n\\nมิถุนายน 2567\\n\\x0c',\n",
              " 9: 'สารบัญ\\n\\n4\\nเรื่อง\\n\\n1.บทที่ 1 บทนํา\\n\\n2.บทที่ 2 ทฤษฎีและงานวิจัยที่เกี่ยวข้อง\\n\\n3. บทที่ 3 วิธีดําเนินการวิจัย\\n\\n4. บทที่ 4 ผลการดําเนินการวิจัย\\n\\n5. บทที่ 5 สรุปผลการวิจัย และข้อเสนอแนะ\\n\\n6. บรรณานุกรม แสดงรายชื่อเอกสารที่นํามาใช้อ้างอิงในการทํางานวิจัยนี้\\n\\n7. ประวัติผู้วิจัย\\n\\nหน้า\\n10-13\\n14\\n15-18\\n19\\n20\\n21-23\\n20-26\\n\\x0c',\n",
              " 10: \"PY         +\\nบทที่ 1 บทนํา\\n\\nภาวะหัวใจห้องบนเต้นพลิ้วผิดจังหวะ (อ!ก่อ| กิยก์แลย์อก: /แ) เป็นภาวะหัวใจเต้นผิดจังหวะที่มี\\nอุบัติการณ์พบบ่อยที่สุด สามารถพบได้ร้อยละ 1-3 ของประชากร โดยจัดเป็นภาวะที่มีความสัมพันธ์กับ\\nอัตราการเจ็บป่วย และการตายที่เพิ่มชิ้น โดยพบว่า อายุ, ภาวะอ้วน, โรคเบาหวาน, โรคความดันโลหิตสูง,\\nการเกิดลื่มเลือดอุดตัน, โรคหลอดเลือดสมอง, โรคสมองขาดเลือด, ภาวะหัวใจล้มเหลว นับเป็นปัจจัยเสี่ยง\\nสําคัญในการเกิดภาวะหัวใจห้องบนเต้นพลิ้วผิดจังหวะ ซึ่งส่งผลทําให้อัตราการเกิดทุพพลภาพ และอัตรา\\nการเสียชีวิตมากกว่าประชากรทั่วไป (1) จากรายงานที่ผ่านมาในประชากรของสหรัฐอเมริกา พบผู้ป่วย\\nด้วยภาวะหัวใจห้องบนเต้นพลิ้วผิดจังหวะ ประมาณ 3-6 ล้านคน และคาดว่าในปี พ.ศ. 2593 จะพบ\\nปริมาณผู้ป่วยสูงถึง 6-16 ล้านคน รวมทั้งประชากรในแถบเอเชียมากกว่า 3 ล้านคนที่มีโอกาสเสี่ยงต่อการ\\nเกิดภาวะนี้ (2 โดยเพศชายพบอุบัติการณ์สูงมากกว่าเพศหญิง (3) รวมทั้งอุบัติการณ์การเกิดจะเพิ่มขึ้น\\nตามอายุที่เพิ่มสูงขึ้น จากการศึกษาของ 6๐ /เ5 และคณะ พบว่า ประชากรอายุ 60-69 ปี พบอุบัติการณ์\\nการเกิดภาวะใจห้องบนเต้นพลิ้วผิดจังหวะ ร้อยละ 1.2-2.8 และโดยเฉพาะอย่างยิ่งในช่วงอายุ 80 ปีขึ้นไป\\nสสามารถพบได้มากถึงร้อยละ 7.3-13.7 (4) ซึ่งสอดคล้องกับงานวิจัยของ |พ๕สอก๑๐ 62 และคณะ ในปี\\nพ.ศ. 2553 พบว่า ประชากรอายุมากกว่า 65 ปี มีโอกาสเกิดภาวะดังกล่าว ร้อยละ 12 และในปี พ.ศ.\\n2583 มีแนวโน้มเพิ่มสูงขึ้น 2 เท่า เป็นร้อยละ 22 (5) และโดยเฉพาะอย่างยิ่งในประเทศไทย มีแนวโน้ม\\nของประชากรสูงอายุมากขึ้น จากร้อยละ 7.3 ในปี พ.ศ. 2533 เป็น ร้อยละ 25.1 ในปี พ.ศ. 2573 ตาม\\nคาดประมาณประชากรของประเทศไทยใน พ.ศ. 2563-2573 จะเห็นได้ว่า หากอัตราการการเพิ่มของ\\nประชากรสูงอายุมีแนวโน้มมากขึ้น ส่งผลให้เกิดความเสื่อมลงของสุขภาพ และอัตราการเสียชีวิตที่เพิ่มขึ้น\\n(6) ดังนั้น ปัจจัยด้านการเปลี่ยนของสังคม ความรู้ และข้อมูลทางสุขภาพ จัดเป็นปัจจัยสําคัญในการ\\nดํารงชีวิต และหากเมื่อเปรียบเทียบอุบัติการณ์ของประชากรในเขตเมืองและชนบทในการเกิดภาวะหัวใจ\\nห้องบนเต้นพลิ้วผิดจังหวะ พบว่า ประชากรในเขตเมืองมีอุบัติการณ์การเกิดภาวะดังกล่าวได้มากกว่า\\n'ประชากรในชนบท ซึ่งสัมพันธ์กับสุขภาพและปัจจัยทางสังคมที่เปลี่ยนแปลงไป คือ พบประชากรเป็น\\nเบาหวาน, ความดันโลหิต ขาดการออกกําลังกาย (เว่าห๑๕ล11กล๐ถกัญ) และความเครียดมากกว่า\\nประชากรในชนบท (7)\\n\\nสาเหตุของภาวะหัวใจห้องบนเต้นพลิ้วผิดจังหวะ เกิดจากหัวใจห้องบนมีการส่งสัญญาณกระตุ้นที่\\nผิดปกติเป็นจํานวนมาก ส่งผลทําให้เกิดภาวะหัวใจห้องบนเต้นสั่นหลิ้ว ซึ่งเป็นการเพิ่มความเสี่ยงต่อการ\\nเกิดลื่มเลือด (๐1๐เก1๐กา๒๐น์๐ รเล1@) นอกจากนี้การที่หัวใจห้องบนเต้นพลิ้วจะส่งผลให้หัวใจห้องล่างเต้น\\nเร็วแบบจังหวะการเต้นของหัวใจไม่สมาเสมอ ทําให้ปริมาณเลือดที่บีบออกจากหัวใจลดลง กระทบต่อ\\nกลศาสตร์การไหลของเลือด (ก@กา๐สหกลกา๐ ฮ์ไรในทวลท๕๕) นอกจากความผิดปกติที่เกิดขึ้นหัวใจแล้ว\\nผู้ป่วยหัวใจห้องบนเต้นพลิ้วมักจะพบว่ามีภาวะความผิดปกติของการทํางานของผนังหลอดเลือด\\n\\n10\\n\\x0c\",\n",
              " 11: '(๑ทส่อไท6น่อ| ส่ร์นท๕น์อท) ร่วมด้วย โดยผู้ป่วยที่มีหัวใจห้องบนเต้นหลิ้วนั้น มีความสัมพันธ์กับความ\\nเจ็บป่วยที่ส่งผลต่อการเกิดโรคความดันโลหิตสูง หากไม่ได้รับการรักษาจะส่งผลทําให้หลอดเลือดภายใน\\nเสื่อม และตีบลงเรื่อย ๆ โดยเฉพาะหลอดเลือดสมอง (5๒๐6๐) และมีโอกาสเสียชีวิตเนื่องจากโรคหลอด\\nเลือดสมอง โดยการศึกษาของ ง@ส๕๑๐๕พอ แสดงให้เห็นถึงความสัมพันธ์ระหว่างความดันโลหิตสูง/ปกติ\\n(130-139/85-89 mmHg) ซึ่งพบความเสี่ยงต่อการเกิดภาวะหัวใจห้องบนเต้นพลิ้วผิดจังหวะ ร้อยละ 28-\\n35 เมื่อเปรียบเทียบกับผู้ป่วยที่มีความดันโลหิตน้อยกว่า 120/65 กากก88 และเมื่อผู้ป่วยมีภาวะของความ\\nดันโลหิตเพิ่มสูงขึ้น อาจจะเนื่องมาจากวิถีการดํารงชีวิตที่เปลี่ยนไป จึงเพิ่มโอกาสต่อการเกิดภาวะนี้ได้มาก\\nขึ้น (@ และนอกจากนี้ยังพบว่า อุบัติการณ์ของโรคหลอดเลือดสมองในภาวะหัวใจห้องบนเต้นพลิ้วผิด\\nจังหวะ เกิดในประชากรอายุระหว่าง 50-59 ปี ร้อยละ 1.5 และมีแนวโน้มเพิ่มมากขึ้นในประชากรที่มีอายุ\\nระหว่าง 80-89 ปี (6) และอัตราการเสียชีวิต จากการเกิดโรคหลอดเลือดสมอง อย่างน้อยร้อยละ 15 จะมี\\nอาการทางคลินิกที่ตรงกับข้อวินิจฉัยภาวะหัวใจเต้นพลิ้ว (9) นอกจากนี้การที่ผู้ป้วยมีภาวะหัวใจเต้นหลิ้ว\\nจะเพิ่มอัตราการเสียชีวิตมากกว่าคนปกติถึง 1.5-1.9 เท่า (10) ดังนั้น การประเมินโอกาสในการเกิดโรค\\nหลอดเลือดสมอง ซึ่งมีสาเหตุจากภาวะหัวใจห้องบนเต้นพลิ้ว จึงมีความสําคัญมาก โดยโรคหลอดเลือด\\nสมอง ซึ่งเกิดจากหัวใจห้องบนเต้นหลิ้ว เป็นภาวะที่สามารถป้องกันการเกิดได้โดยการรับประทานยาต้าน\\nการแข็งตัวของเลือด (ลกย์๐๐อ6นเอกป สําหรับหลักเกณฑ์ในการประเมินความเสี่ยงของการเกิดโรคหลอด\\nเลือดสมองตีบในหัวใจห้องบนเต้นพลิ้วที่ได้รับการยอมรับในปัจจุบัน คือ (พด2052-ง4๐ ซึ่งเป็นการให้\\n\\n \\n\\nคคะแนนในตัวแปรที่ประกอบด้วย ภาวะหัวใจล้มเหลว (๐๐ก9๑5ปัง@ กอลห โล!แน/อ) หรือ การบีบตัวของ\\nกล้ามเนื้อหัวใจ (เ@๕ก ventricular ejection fraction) น้อยกว่าร้อยละ 40 เท่ากับ 1 คะแนน, ความดัน\\nโลหิตสูง (ก/0@ศอก5๐ก) เท่ากับ 1 คะแนน, อายุตั้งแต่ 75 ปีขึ้นไป เท่ากับ 2 คะแนน, โรคเบาหวาน\\n(สไล๒๕เอร ทา6ไน่นร) เท่ากับ 1 คะแนน, โรคหลอดเลือดสมอง หรือ โรคหลอดเลือดสมองตีบชั่วคราว\\n(พลทร์เอท! 1รอทอทก์6 ธะไล๕0 หรือ หลอดเลือดส่วนปลายอุดตันจากลิ่มเลือด(บํา1๐๓๓๒๐๕กา๒๐นรทา)\\nเท่ากับ 2 คะแนน, เคยมีโรคทางหลอดเลือดหัวใจหรือหลอดเลือดส่วนปลาย ได้แก่ กาห๐๐3สล[\\ninfarction, peripheral art\\n\\n \\n\\n(สร6ลร6 หรือ ล๐ข่๐ เวเลตุน6 เท่ากับ 1 คะแนน, อายุ 65-74 ปี เท่ากับ\\n1 คะแนน, เพศหญิง เท่ากับ 1 คะแนน, โดยค่าคะแนนที่สูง แสดงว่า ผู้ป่วยที่มีภาวะหัวใจห้องบนเต้นหลิ้ว\\nผิดจังหวะนั้นมีความเสี่ยงสูงในการเกิดหลอดเลือดสมองตีบที่ 1 ปี สูงไปในแนวทางเดียวกัน (11)\\n\\nภาวะหัวใจห้องบนเต้นหลิ้วผิดจังหวะ ยังมีความสัมพันธ์กับภาวะเครียดออกซิเดชัน (๐>(ฮ่อบัง@\\n5๒๐59) ซึ่งเป็นภาวะที่แสดงถึงความไม่สมดุลระหว่างสารอนุมูลอิสระ (ก๐ (ล๕6315) และสารต้านอนุมูล\\nอิสระ (ลกน่๐2ล่ฮ่อท!ร) หากสารอนุมูลอิสระมากเกินไป หรือมีสารต้านอนุมูลอิสระน้อยเกินไปจะชักนําให้\\nity-C-Reactive\\nแอแตก (ทร๕89) ซึ่งเป็นตัวแปรที่บ่งซี้ถึงการอักเสบ (8, 12) โดยความไม่สมดุลระหว่างสารอนุมูลอิสระ\\n\\n \\n\\nเกิดกระบวนการอักเสบของผนังหลอดเลือด เป็นการเพิ่มระดับของ [พ่ง่ก“5๐ก5\\n\\n1\\n\\x0c',\n",
              " 12: 'และสารต้านอนุมูลอิสระมีผลต่อโครงสร้างและกลไกการทํางานของผนังหลอดเลือด ทําเกิดการแตกหัก\\nและสะสมของ triglyceride uae cholesterol เพิ่มขึ้น มีการเสื่อมของเนื้อเยื่ออีลาสทิน และการพัฒนา\\nของเนื้อเยื่อไฟบรัส ทําให้เซลล์กล้ามเนื้อเรียบของหลอดเลือดแดงเพิ่มจํานวนและมีขนาดใหญ่ขึ้น ร่วมกับ\\nการเสื่อมสภาพขององค์ประกอบในผนังหลอดเลือดแดงทําให้สูญเสียความยืดหยุ่น เกิดพยาธิสภาพของ\\nหลอดเลือดและเซลล์เยื่อบุหลอดเลือดทํางานผิดปกติ (๑กส่๐ยา@ป่อ! dysfunction) โดยสามารถใช้ กิอพ-\\nmediated ต์แลเอย์อก (ค|0) ในการประเมินการทํางานของหลอดเลือดได้ หากมีค่าที่ น้อยเมื่อ\\nเปรียบเทียบกับคนปกติ จะบ่งชี้ว่ามีการหลั่ง กกเก่๐ ๐06๑ ลดลง ทําให้การขยายของหลอดเลือดลดลง\\n(13) นอกจากนี้สารอนุมูลอิสระจะมีความว่องไวในการทําปฏิกิริยาสูงทําให้เกิดความเสียหายต่อเยื่อหุ้ม\\nเซลล์ เกิดกระบวนการ เเ๒เส ๐2ฮ่อน์อก มักพบว่าในผู้ป่วยโรคทางระบบหัวใจและหลอดเลือด จะมีการ\\nเพิ่มขึ้น กาล[๐ก๕โอเส่อทหส่6 (ไ1070 (14) แต่หากร่างกายมีสารต้านอนุมูลอิสระสูง เช่น มี 5น๒๕03อ๐\\n(ตไรททนเลร6 (500) มาก จะช่วยในการต้านต่อการเกิดภาวะเครียดออกซิเดขัน และต้านต่อการเกิด\\nendothelial ส่ธ์นทอน่อท ได้ และระดับ 500 นั้นจะช่วยในการปกบ้องการเกิด ง๑ก!ก่๐นไลก\\nแฮททอสอน์ทรู (15) ซึ่งในในผู้ป่วยที่มีกล้ามเนื้อหัวใจหนาผิดปกติ (ก/0อ6๒๐ฎา๕ ๕แล่แอททษอเลไ่างะ\\nHCM) นั้นมีโอกาสการเกิดหัวใจห้องบนเต้นพลิ้วผิดจังหวะสูงขึ้นถึง 4-6 เท่า เมื่อเปรียบเทียบกับประชากร\\nที่อายุเท่ากัน (16) การเกิด \"6! ในผู้ป่วยที่มีภาวะหัวใจห้องบนเต้นพลิ้วผิดจังหวะ นั้นจะส่งผลต่อ\\nความสามารถในการบีบตัวของหัวใจ (๑๑๐น์๐ก กิล๐น์อก) ซึ่งมีความสัมพันธ์กับภาวะหัวใจวาย (10)\\n\\nนอกจากนี้เมื่อพิจารณาโรคในระบบหัวใจและหลอดเลือด ยังพบว่ามีความสัมพันธ์กับกรดไขมัน\\nอิ่มตัว (5665) จากรายงานพบว่า ปริมาณที่แตกต่างกันของกรดไขมันอิ่มตัวภายในเลือดส่งผลต่อ\\nความสัมพันธ์กับโรคหัวใจและเมตาบอลิซึม โดยพบว่า กรดไขมันที่มีคาร์บอนอะตอมเป็นจํานวนเลขคี่\\n(odd chain fatty ลดเส5) เช่น (615:0 (กรดเพนทาเดคาโนอิก) และ 617:0 (กรดเฮปตาเดคาโนอิก)\\nเนื่องจากมีบทบาทในการกระบวนการเมตาบอลิขึมของไขมัน ซึ่งลดปริมาณคอเลสเตอรรอล, ไตรกลีเซอร์\\nไรด์, 309น0๒๐09!๕ท /เ1, 20๐น๒๐10!ต่ก 8 ดังนั้น จึงอาจมีส่วนช่วยในการลดความเสี่ยงต่อการเกิด\\n\\'โรคหัวใจและหลอดเลือด แต่ในขณะเดียวกันปริมาณของกรดไขมันอื่มตัว เช่น ก่รน์๐ ล๓ส (C14:0),\\nPalmitic acid (C16:0), Stearic acid (C18:0) uF onaalustuaruy Wu Behenic acid (C22:0),\\nแลตําไต่!6 ลดส่ (620:0), โท่6๐รลท๐6 ล6ส่ (62310), น์ตูท๐๐ท่ะ ลดส (624:0) กลับเพิ่มความเสี่ยงต่อ\\nการเกิดโรคหัวใจและหลอดเลือดได้เพิ่มมากขึ้น (12, 17, 18) ซึ่งนับเป็นปัจจัยเสี่ยงที่เกี่ยวข้องกับโอกาส\\n\\'ในการเกิดภาวะหัวใจห้องบนเต้นพลิ้วผิดจังหวะ โดยผู้ป่วยที่มีภาวะโรคหลอดเลือดสมอง มีโอกาสเกิด\\nภาวะหัวใจห้องบนเต้นพลิ้วผิดจังหวะมากกว่าผู้ที่ไม่มีอาการถึงร้อยละ 20 รวมทั้งความซุกของการเกิดโรค\\nหลอดเลือดสมอง จะเพิ่มขึ้นมากขึ้นตามอายุเช่นเดียวกันกับการเกิดภาวะดังกล่าว โดยเพิ่มขึ้นจากร้อยละ\\n\\n4.3 ในผู้ป่วยที่อายุน้อยกว่า 40 ปีเป็นร้อยละ 32.9 ในผู้ป่วยที่มีอายุมากกว่า 80 ปี (8, 19) ดังนั้นในการ\\n\\n12\\n\\x0c',\n",
              " 13: \"หา ๒๐๓ลๆ๕ จึงมีความจําเป็นสําหรับการตรวจหาปริมาณ 615:0 และ 617:0 เพื่อช่วยในการวิเคราะห์\\nและลดความเสี่ยงต่อการเกิดโรคหัวใจและหลอดเลือด (20) ดังนั้นในการสกัดและวิเคราะห์องค์ประกอบ\\nของกรดไขมันนั้น สามารถใช้เทคนิคโครมาโตกราฟี เพื่อใช้ในการวิเคราะห์ในเชิงปริมาณ และคุณภาพ\\nเช่น การใช้แก้สโครมาโตกราฟี ซึ่งนับเป็นเทคนิคการแยก และวิเคราะห์องค์ประกอบของกรดไขมัน\\nเนื่องจาก ถือเป็นเครื่องมือที่ง่าย และสะดวกต่อการใช้งาน รวมทั้งสามารถวิเคราะห์ตัวอย่างได้หลายกลุ่ม\\n'โดยสามารถใช้ร่วมกับเครื่องตรวจวัดสัญญาณต่าง ๆ wu Flame-ionization detection, fluorescence,\\nmass spectrometer \\\\Husiu (21, 22)\\n\\nถึงแม้ว่าการศึกษาวิจัยก่อนหน้านี้ จะพบความสัมพันธ์ของการอักเสบ ภาวะเครียดออกซิเดขันใน\\nผู้ป่วยที่มีภาวะหัวใจห้องบนเต้นพลิ้วผิดจังหวะ แต่การศึกษาส่วนใหญ่มักจะเปรียบเทียบระหว่างผู้ป่วยที่มี\\nภาวะหัวใจห้องบนเต้นพลิ้วผิดจังหวะ และไม่มีอาการ หรือเป็นการแบ่งกลุ่มตามประเภทของภาวะหัวใจ\\nห้องบนเต้นหลิ้วผิดจังหวะ แต่สําหรับการเปรียบเทียบการอักเสบ ภาวะเครียดออกซิเดชัน โดยแบ่งกลุ่ม\\nด้วยเกณฑ์ 6ห62052-ง656 ตามระดับความเสี่ยงการเกิดโรคหลอดเลือดสมองได้เป็น ความเสี่ยงในระดับ\\nตํํา ระดับปานกลาง และระดับสูง นั้นยังไม่พบการศึกษาในประชากรไทย และหากมีการศึกษาที่เกี่ยวข้อง\\nกับชนิดของกรดไขมันในผู้ป่วยที่มีภาวะหัวใจห้องบนเต้นพลิ้วผิดจังหวะ นั้นจะเป็นข้อมูลประกอบที่ทําให้\\nเกิดความเข้าใจในพยาธิสรีรวิทยาของภาวะหัวใจห้องบนเต้นพลิ้วผิดจังหวะมากขึ้น โดยผลของการศึกษา\\nครั้งนี้น่าจะมีส่วนช่วยในการวางแผนป้องกัน เฝ้าระวังความเสี่ยงด้านสุขภาพตั้งแต่ระยะแรก นําไปสู่การ\\nให้ความรู้ และแนะนําการปฏิบัติตนที่ถูกต้อง รวมทั้งการรักษาให้เหมาะสม เพื่อช่วยลดอัตราการเจ็บป่วย\\n\\nลดโอกาสการเกิดภาวะแทรกข้อนทางระบบหัวใจและหลอดเลือดที่มีผลต่อชีวิต\\n\\nวัตถุประสงค์หลัก\\n1. เพื่อเปรียบเทียบการอักเสบ ภาวะเครียดออกซิเดชัน และองค์ประกอบของกรดไขมันในผู้ป่วย\\nภาวะหัวใจห้องบนเต้นหลิ้วผิดจังหวะกับผู้ป่วยที่ไม่มีภาวะหัวใจห้องบนเต้นหลิ้วผิดจังหวะ\\nวัตถุประสงค์รอง\\n1. เพื่อเปรียบเทียบการอักเสบ ภาวะเครียดออกซิเดชัน และองค์ประกอบของกรดไขมันในผู้ป่วย\\nภาวะหัวใจเต้นห้องบนหลิ้วผิดจังหวะกับผู้ป่วยที่ไม่มีภาวะหัวใจเต้นห้องบนพลิ้วผิดจังหวะ โดย\\nแบ่งตามคะแนนความเสี่ยงการเกิดหลอดเลือดสมองตีบ\\n2. เพื่อประเมินความสัมพันธ์การอักเสบ ภาวะเครียดออกซิเดชัน และองค์ประกอบของกรดไขมันใน\\nผู้ป่วยหัวใจที่ห้องบนเต้นพลิ้วผิดจังหวะกับผู้ป่วยที่ไม่มีภาวะหัวใจห้องบนเต้นพลิ้วผิดจังหวะ โดย\\n\\nแบ่งตามคะแนนความเสี่ยงการเกิดหลอดเลือดสมองตีบ\\n\\n13\\n\\x0c\",\n",
              " 14: 'ดี       a       วิจัยที่เกี่ยวข้ว\\nบทที่ 2 ทฤษฎีและงานวิจัยที่เกี่ยวข้อง\\n\\n1. ผู้ป่วยที่มีภาวะหัวใจห้องบนเต้นพลิวผิดจังหวะ จะมีค่าตัวแปรที่เกี่ยวข้องการอักเสบ ภาวะเครียด\\n\\nออกซิเดชัน และกรดไขมันอื่มตัวสายยาวเพิ่มขึ้น เมื่อเปรียบเทียบกับผู้ป่วยที่ไม่มีภาวะหัวใจห้องบนเต้นพลิ้วผิด\\n\\n \\n\\nจังหวะ\\n2 ผู้ป่วยที่มีคะแนนความเสี่ยงการเกิดหลอดเลือดสมองตีบในระดับสูง จะมีค่าตัวแปรที่เกี่ยวข้องการ\\nอักเสบ ภาวะเครียดออกซิเดชัน และกรดไขมันอื่มตัวสายยาวเพิ่มขึ้น เมื่อเปรียบเทียบกับผู้ป่วยที่มีคะแนนความ\\nเสี่ยงการเกิดหลอดเลือดสมองตีบในระดับตํา\\n3. พบความสัมพันธ์เชิงบวกระหว่างการอักเสบ ภาวะเครียดออกซิเดชัน และกรดไขมันอื่มตัวสายยาว\\n\\nกับ คะแนนความเสี่ยงการเกิดหลอดเลือดสมองตีบ\\n\\n \\n\\nThai elderly with\\n\\nAtrial fibrillation\\ns+\\n\\n® Long chain fatty acid | [4 Hemodynamics disturbance\\n\\n \\n\\n \\n\\n \\n\\n \\n\\n \\n\\n \\n\\n \\n\\n \\n\\n \\n\\n \\n\\n \\n\\n \\n\\n \\n\\n \\n\\n \\n\\n \\n\\n \\n\\n \\n\\n \\n\\n \\n\\nBE Free radical             +                          *\\n=  ซิ Ovdative sess | wp [A Endothelium dysfunction\\n\\nWantioxidant              +                          +\\n Infiammation marker pid peroxidation\\n\\n \\n\\n \\n\\n \\n\\n \\n\\n+\\n\\nCardiac hypertrophy\\n\\n \\n\\n \\n\\n \\n\\n \\n\\x0c',\n",
              " 15: 'ซี่ 3 วิธีดําเน็บการวิถี?\\nบทที่ 3 วิธีดําเนินการวิจัย\\n\\nระเบียบวิธีวิจัย\\nการวิจัยครั้งนี้เป็นการวิจัยเชิงทดลอง โดยผู้วิจัยจะทําคัดเลือกอาสาสมัครที่เข้ารับการรักษาที่\\nผ้       .             ท์\\n\\n\\'โรงพยาบาลวชิรพยาบาล โดยเมื่อผู้วิจัยพบกลุ่มเป้าหมายผู้สูงอายุที่นําจะตรงตามเกณฑ์การคัดเข้า และเกณฑ์การ\\n\\nคัดออก ดังนี้\\n\\nเกณฑ์การคัดเข้า (!ก๐๕!นฉอก ๕ท์1@ท่อ)\\n\\n1. เพศชายหรือหญิงอายุตั้งแต่ 65 ปีขึ้นไป\\n\\n2 ไม่มีประวัติป่วยเป็นโรคหลอดเลือดสมอง (5๒๐6@) หรือ (๒8ท5อท! [56ทอทก๕ ธะไลต่า โรคหลอดเลือด\\nหัวใจ\\n\\n3. มีค่าความดันโลหิต และซีพจร 5!ล๒16 มากกว่า 7 วัน\\n\\n4..ไม่เป็นผู้รับประทานอาหารเสริม\\n\\n5. ไม่เป็นโรคที่เกี่ยวข้องกับระบบหายใจ และระบบไต\\n\\nเกณฑ์การคัดออก (6๕!น5อก ๕1@ท่อ)\\n1. ก่อนเข้าโครงการมีสภาวะของความเจ็บป่วย เช่น ไม่สบาย เป็นไข้ ปวดหัว มีนศีรษะ วิงเวียน หน้ามืด\\nอ่อนแรง ต่อเนื่องมากกว่า 3 วัน เป็นต้น\\n2. มีภาวะ ปกรเล๒!6 /เทชูเทล\\n3. i artificial pacemaker\\n4, hse heart transplantation\\n5. การใช้ยาในกลุ่ม โกากานทอรนตฎหอรรอกะ\\n\\n6. มีประวัติการเป็นมะเร็ง หรือเป็นโรคที่มีการอักเสบเกิดขึ้นในร่างกาย\\n\\nวิธีดําเนินการวิจัย (66๐๐@สน\"@)\\n\\nเมื่อผู้วิจับพบกลุ่มเป้าหมายที่เข้าตามเกณฑ์ที่กําหนด ผู้วิจัยจะดําเนินการติดต่อขออนุญาตจาก\\nกลุ่มเป้าหมาย เพื่อชี้แจ้งรายละเอียดของโครงการ วัตถุประสงค์ ที่มา ความสําคัญและประโยชน์ของโครงการ และ\\nเชิญชวนเข้าร่วมโครงการ เมื่อกลุ่มเป้าหมายประสงค์เข้าร่วมโครงการ กลุ่มเป้าหมายจะต้องเซ็นต์ใบยินยอมเข้า\\nร่วมโครงการ\\n\\nอาสาสมัครจะถูกสัมภาษณ์เพื่อให้ข้อมูลเกี่ยวกับประวัติสุขภาพ ประวัติทั่วไป รวมทั้งจะได้รับการตรวจ\\nสัญญาณชีพ ได้แก่ อุณหภูมิกาย อัตราการเต้นของหัวใจ ความดันโลหิต และการเจาะเก็บตัวอย่างเลือดเลือด เพื่อ\\nใใช้ในการวิเคราะห์ค่า ก๑5ปัก6 ๒!เลรททล ชูไน6๐56, นวเส่ เวอกิไอ, fatty acid profile, hs-CRP, MDA, uaz: SOD\\n\\n15\\n\\x0c',\n",
              " 16: 'ใช้เวลาทั้งสิ้น 1 ชั่วโมง โดยข้อมูลจากการสัมภาษณ์ การตรวจร่างกาย และประวัติทางการแพทย์จะนําไปใช้ใน\\nการคํานวณความเสี่ยงการเกิดโรคหลอดเลือดสมองในผู้ป่วยภาวะหัวใจเต้นห้องบนพลิ้วผิดจังหวะ โดยเกณฑ์\\nCHA2DS2-VASC โดยการแบ่งอาสาสมัครเป็น 2 กลุ่ม คือ กลุ่มที่ผู้ป่วยภาวะหัวใจห้องบนเต้นหลิ้วผิดจังหวะ (/5\\ngroup) กับผู้ป่วยที่ไม่มีภาวะหัวใจห้องบนเต้นพลิ้วผิดจังหวะ (ก๐ก-/ง๊ @๐๒) ซึ่งทั้งสองกลุ่มจะได้การ\\nประเมิน @ก๐[ท6น่ล| กนท๕น่อท ซึ่งประเมินจากวิธี ก็๐พ-กทอตโล16ส ตั!แลเลน์อท (กี10) และการประเมินขนาด\\nของห้องหัวใจตามแรงการบีบตัวของกล้ามเนื้อ ซึ่งประเมินจากการตรวจหัวใจด้วยเครื่องสะท้อนเสียงความถี่สูง\\n(Echocardiogram) และค่าคะแนนความเสี่ยงการเกิดหลอดเลือดสมองตีบที่อาสาสมัครทั้ง 2 กลุ่มได้รับการ\\nประเมิน จะถูกแบ่งตามระดับความเสี่ยงตัํา คือ มีคะแนน 0-2 ระดับความเสี่ยงปานกลาง คือ มีคะแนน 3-4 และ\\nระดับความเสี่ยงสูง คือ มีคะแนนตั้งแต่ 5 ภายหลังจากการดําเนินการวิจัยเสร็จสิ้น ผู้วิจัยจะดําเนินการวิเคราะห์\\nข้อมูล\\n\\nการตรวจทางห้องปฏิบัติการ (เอ๒๐๒๑1๐7/ 6650): ตัวแปรที่ต้องการศึกษา ได้แก่ ก5๐90, โล5นก๑\\nplasma glucose, lipid profiles, fatty acid profile, MDA way SOD\\n\\n- การตรวจวัดระดับ ก5๐99: นําเลือดประมาณ 4 มิลลิลิตร เก็บในหลอดเก็บเลือดที่มีสารกันเลือดแข็ง\\nชนิด แย่งนทา ท๕ลทํก นําส่งห้องปฏิบัติการภายใน 1 ชั่วโมง หลังจากเก็บสิ่งส่งตรวจใช้วิธีการวิเคราะห์แบบ\\nParticle enhanced immunoturbidimetry\\n\\n- การตรวจวัดระดับน้้าตาลในเลือด (Fasting plasma glucose): thi@oausean 4 มิลลิลิตรเก็บใน\\nหลอดเก็บเลือดที่มีสารกันเลือดแข็งชนิด 5๐๕เนกา กินอท่ส่อ นําส่งห้องปฏิบัติการภายใน 2 ชั่วโมง หลังจากเก็บสิ่ง\\nส่งตรวจ ใช้วิธีการวิเคราะห์แบบ 6ก2กาลน่๐ (ไฟอ%๐|ด์ทลร6)\\n\\n- การวัดระดับไขมันในเลือด (น(0ส ๒๒กิเ๐5) ประกอบด้วย แต่งไห๕ท์สฝ่อ, 00-6, 10!-6 และ\\n\\n๕๓๐65๕๐| นําเลือดประมาณ 2 มิลลิลิตร เก็บในหลอดเก็บเลือดที่มีสารกันเลือดแข็งชนิด !\"\\n\\n \\n\\nium heparin\\nนําส่งห้องปฏิบัติการภายใน 2 ชั่วโมง หลังจากเก็บสิ่งส่งตรวจ ใช้วิธีการวิเคราะห์แบบ @ก2%กกลบ่๐ colorimetric\\n\\n- การวัดระดับ |/06 ด้วยวิธีการทางอ้อมจากการวัดระดับของ ขาก100ล70เนท่๕ ล๕ส แฮล๕ฟังอ\\nรน๒รเลท6๐5 (โช/เ85) นําเลือดประมาณ 2 มิลลิลิตรที่เก็บใน 501/ เน๒๑ ไปปั่นเหวี่ยงที่อุณหภูมิ 4 ด้วย\\nความเร็ว 2.500 กุมกา เป็นเวลา 15 นาที จากนั้นดูดพลาสมาที่ได้ประมาณ 1 มิลลิลิตรไปเก็บใน กา๕๐๐6ก1ทํก์น4@\\n\\'แน๒๑ แล้วเก็บไว้ที่อุณหภูมิ -80*( จนกว่าจะทําการตรวจวิเคราะห์ (0/๑0๕ et al. 1993) ใช้วิธีการวิเคราะห์แบบ\\nspectrophotometry\\n\\n16\\n\\x0c',\n",
              " 17: '- การวัดระดับ 500 โดยนําเลือดประมาณ 2 มิลลิลิตรที่เก็บใน 60โต๒๒๐ ไปปั่นเหวี่ยงที่อุณหภูมิ 4๐\\nด้วยความเร็ว 2500 ทฏ เป็นเวลา 15 นาที จากนั้นดูดพลาสมาที่ได้ประมาณ 1 มิลลิลิตรไปเก็บใน\\nหพ่อ(๐๕๑ทเท่โน4ู@ !น๒6 แล้วเก็บไว้ที่อุณหภูมิ -80\"6 ใช้วิธีการวิเคราะห์แบบ 60156 เพื่อวัดปริมาณความเข็มข้น\\n‘01 Cu/Zn Superoxide Dismutase\\n\\n- การวัดวิเคราะห์ 1๑9 อ๓๕ 0๐กิ(@ นําเลือดประมาณ 4 มิลลิลิตร เก็บในหลอดเก็บเลือดที่มีสารกัน\\nเลือดแข็งชนิด แฝกนกา ก๕ตลท์ท นําส่งห้องปฏิบัติการภายใน 1 ชั่วโมง หลังจากเก็บสิ่งส่งตรวจใช้วิธีการวิเคราะห์\\nด้วยวิธี 6ล5 (๓1๐กาล1๐๑เลเงทษ (66) โดยลิปิดถูกสกัดจากพลาสม่าปริมาตร 1 มิลลิลิตร ตามวิธีของ ๐1๕ก และ\\nคณะ จากนั้นนําตัวอย่างที่สกัดได้ มาเตรียมอนุพันธ์กรดไขมันเมทิลเอสเทอร์ ด้วยวิธีทรานส์เอสเทอร์ริฟิเคชัน โดย\\nใช้เบสเป็นตัวเร่งปฏิกิริยา นําตัวอย่างประมาณ 10 มิลลิกรัม ละลายในโทลูอืน และทําปฏิกิริยากับเบส (โซเดียมไฮ\\n\\nดรอกไซด์ในเมทานอล 5% พ/ง) เป็นเวลา 3 นาทีที่อุณหภูมิห้อง จากนั้นหยุดปฏิกิริยาด้วยกรดอะซิติก และล้าง\\n\\nขั้นตัวทําละลายโทลูอืนด้วยน้ากลั่น จากนั้นจึงเติม อกกษณ๐น5 งอ250: ในขั้นโทลูอืน เพื่อกําจัดน้าในชั้นโทลูอืน\\n\\nแล้วจึงนําสารละลายทั้งหมดไประเทยแห้งด้วยแก๊สไนโตรเจนและละลายกลับด้วยเฮกเซน ก่อนนําไปวิเคราะห์เพื่อ\\nหาองค์ประกอบของกรดไขมันด้วย 66-6!0 โดยใช้คอลัมน์ 80%70 (30 กท, !. % 0.25 กก, ID x 0.25 ym, film\\nหไฮ่(อร5) สภาวะการทดลองใช้โปรแกรมอุณหภูมิ 160% เป็นเวลา 2 นาที เพิ่มอุณหภูมิ 2°C ต่อนาที จนถึง\\nอุณหภูมิ 210% ที่อัตราการไหลของแก๊สฮีเลียม 1.0 มิลลิลิตรต่อนาที อุณหภูมิอินเจคเตอร์และเครื่องตรวจวัด\\n250% ปริมาตรสารที่ฉีด 1 ไมโครลิตร โดยใช้อัตราส่วน 5001! (ลน์๐ เท่ากับ 50:1\\n\\nการคํานวณขนาดตัวอย่าง\\nจํานวนของอาสาสมัครได้จากการคํานวณขนาดตัวอย่างโดยใช้สูตรทดสอบความแตกต่าง ของค่าเฉลี่ย 2\\n\\nกลุ่ม (อิสระต่อกัน) โดยใช้ [กกิลกากาล!อ๓/ กทลๆ๕ ซึ่งเป็นตัวแปรหลักของงานวิจัย ได้ดังนี้\\n\\n267.+2,)ฮ*\\n\\nmer         (แกแม“\\nค้านวณขนาดตัวอย่างโดยอ้างอิงจากงานวิจัยในอดีต ได้ดังนี้\\nแ1- น2 = 16.19 เป็นผลต่างค่าเฉลี่ยระหว่างกลุ่ม\\n6         = 19.98 เป็นส่วนเบี่ยงเบนมาตรฐานของ ตัวแปรผลลัพธ์หลัก\\nZep        = 1.96 (two tail)\\nZy           = 0.84\\nN pair       = 2(1.96+0.84)? (19.98)? / (16.19)?\\n\\n \\n\\n3,88 = 24\\n\\n7\\n\\x0c',\n",
              " 18: \"รวม 000 ๐น! 40% จะคํานวณได้อาสาสมัคร 36 คน/%๐น0\\n\\nการวิเคราะห์ข้อมูล\\n\\nข้อมูลที่ได้จากการวัดค่าตัวแปรประเภท 6๐กปักนอน5 งอก่อ๒1อ5 จะแสดงเป็นค่าเฉลี่ย « ค่าเบี่ยงเบน\\nมมาตรฐาน (กา@ลก + 50) สําหรับข้อมูลประเภท categorical variables จะแสดงเป็นค่าจํานวนนับ และ\\nเปอร์เซ็นต์ การวิเคราะห์ความแตกต่างของอาสาสมัคร 3 กลุ่ม โดยใช้ /แง0ง6 สําหรับการวิเคราะห์การกระจาย\\nตัวของข้อมูลโดยใช้ 5กอ10-ห70« ๐6! และการวิเคราะห์ความสัมพันธ์ของปัจจัยต่าง ๆ โดยใช้ 0๐ล(50ก'5\\n'๕๐หอเลน่อท สําหรับข้อมูลที่มีการกระจายตัวปกติ หรือ 50๐ลกา@ก'5 ๕๐ห๕ไอย์๐ก สําหรับข้อมูลที่มีการกระจาย\\nตัวไม่ปกติ ซึ่งข้อมูลทั้งหมดจะถูกวิเคราะห์โดยใช้โปรแกรม 5055 5เย5น์๐5 โดยกําหนดค่าความแตกต่างอย่างมี\\n\\nนัยสําคัญทางสถิติที่ ๐<0.05\\n\\n18\\n\\x0c\",\n",
              " 19: 'PY           ent nat\\nบทที่ 4 ผลการดําเนินการวิจัย\\n\\nไม่บรรลุตามแผนการวิจัยที่ตั้งไว้ คิดเป็นสัดส่วน 0 % ของงานทั้งหมดต่อโครงการ 100%\\n\\n \\n\\n \\n\\n \\n\\n \\n\\n \\n\\n \\n\\n \\n\\n.                                ร้อยละของ | ความสําเร็จต่อ\\nกิจกรรม                                       7                     -\\nกิจกรรม             กิจกรรม\\n1. วิเคราะห์ตัวอย่างเลือด                                                     34                    0\\n2 วิเคราะห์ข้อมูลวิจัยทางสถิติ                                               16                    0\\n3. สรุปผลการวิจัยและเขียนรายงาน                                   16                 0\\n4. เขียนโครงร่าง กาลกน56ก๋01 ผลงานวิจัย                            34                 0\\nรวม                                                                             100                    0\\n\\n \\n\\n \\n\\n \\n\\n \\n\\n19\\n\\x0c',\n",
              " 20: 'ตี่                      วิจัย และข้ว\\nบทที่ 5 สรุปผลการวิจัย และข้อเสนอแนะ\\n\\nเนื่องจากหัวหน้าโครงการวิจัยลาออกจากมหาวิทยาลัยต้นสังกัด และผู้ร่วมโครงการท่านอื่นไม่ประสงค์จะ\\nดําเนินโครงการต่อ ดังนั้นจึงขอยุติโครงการวิจัยที่ได้รับทุนสนับสนุนด้านวิทยาศาสตร์ วิจัยและนวัตกรรม ประจําปี\\nงบประมาณ พ.ศ. 2567 จึงเป็นเหตุให้ไม่สามารถดําเนินส่งผลผลิตได้ตามกําหนด\\n\\x0c',\n",
              " 21: 'เอกสารอ้างอิง\\n\\n1.      Tse HF, Wang YJ, Ahmed Ai-Abdullah M, Pizarro-Borromeo AB, Chiang CE,\\nเฉ R, et al. Stroke prevention in atrial fibrillation~an Asian stroke perspective.\\nHeart rhythm. 2013;10(7):1082-8.\\n\\n2 Komej J, Borschel CS, Benjamin EJ, Schnabel RB. Epidemiology of Atrial\\nFibrillation in the 21st Century: Novel Methods and New Insights. Circulation research.\\n2020;127(1):4-20.\\n\\n3. Friberg J, Scharling H, Gadsball N, Truelsen T, Jensen GB. Comparison of the\\nimpact of atrial fibrillation on the risk of stroke and cardiovascular death in women\\nversus men (The Copenhagen City Heart Study). American Journal of Cardiology.\\n2004;94(7):889-94.\\n\\n4, GOS, Hylek EM, Phillips KA, Chang Y, Henault LE, Selby JV, et al. Prevalence of\\nDiagnosed Atrial Fibrillation in AdultsNational Implications for Rhythm Management and\\nStroke Prevention: the AnTicoagulation and Risk Factors In Atrial Fibrillation (ATRIA)\\nStudy. JAMA. 2001;285(18):2370-5.\\n\\n5. Heidenreich PA, Trogdon JG, Khavjou OA, Butler J, Dracup K, Ezekowitz MD, et al.\\nForecasting the Future of Cardiovascular Disease in the United States. Circulation.\\n2011;123(8):933-44,\\n\\n[ Sungsti S. Knowledge Provision Model Through Distance Learning Method for\\nPromoting Quality of Life of the Elderly in Rural Areas of Thailand, Journal of Education\\nand Learning. 2021;10:129.\\n\\n7      Kapral MK, Austin PC, Jeyakumar G, Hall R, Chu A, Khan AM, et al. Rural-Urban\\nDifferences in Stroke Risk Factors, Incidence, and Mortality in People With and Without\\nPrior Stroke. Circulation: Cardiovascular Quality and Outcomes. 2019;12(2):e004973.\\n\\n: Verdecchia P, Angeli F, Reboldi G. Hypertension and Atrial Fibrillation. Circulation\\nresearch. 2018;122(2):352-68.\\n\\n21\\n\\x0c',\n",
              " 22: \"9. Friberg J, Scharling H, Gadsballl N, Truelsen T, Jensen GB. Comparison of the\\nimpact of atrial fibrillation on the risk of stroke and cardiovascular death in women\\n\\nversus men (The Copenhagen City Heart Study). Am J Cardiol. 2004;94(7):889-94.\\n\\n10. Benjamin £4, Wolf PA, D'Agostino RB, Silbershatz H, Kannel WB, Levy . Impact of\\natrial fibrillation on the risk of death: the Framingham Heart Study. Circulation,\\n1998;98(10):946-52.\\n\\n11. Lip GY, Nieuwlaat R, Pisters R, Lane DA, Crijns HJ. Refining clinical risk stratification\\nfor predicting stroke and thromboembolism in atrial fibrillation using a novel risk factor\\n\\nbased approach: the euro heart survey on atrial fibrillation. Chest. 2010;137(2):263-72.\\n\\n12. Zheng J-S, Sharp SJ, Imamura F, Koulman A, Schulze MB, Ye Z, et al. Association\\nbetween plasma phospholipid saturated fatty acids and metabolic markers of lipid,\\nhepatic, inflammation and glycaemic pathways in eight European countries: a cross-\\n\\nsectional analysis in the EPIC-InterAct study. BMC Medicine. 2017;15(1):203.\\n\\n13. _Karamichalakis N, Letsas KP, Vlachos K, Georgopulos S, Bakalakos A, Efremidis M,\\net al. Managing atrial fibrillation in the very elderly patient: challenges and solutions.\\n\\nVasc Health Risk Manag. 2015;11:555-62.\\n\\n \\n\\n14. Gianazza E, Brioschi M, Martinez Fernandez A, Casalnuovo F, Altomare A, Aldini G,\\net al. Lipid Peroxidation in Atherosclerotic Cardiovascular Diseases. Antioxid Redox Signal.\\n2021;34(1):49-98.\\n\\n15. Li X, Lin Y, Wang S, Zhou S, Ju J, Wang X, et al. Extracellular Superoxide\\n\\nDismutase Is Associated With Left Ventricular Geometry and Heart Failure in Patients\\n\\n \\n\\nWith Cardiovascular Disease. Journal of the American Heart Associ\\n\\n2020;9(15):e016862.\\n\\n16. Garg L, Gupta M, Sabzwari SRA, Agrawal S, Agarwal M, Nazir T, et al. Atrial\\nfibrillation in hypertrophic cardiomyopathy: prevalence, clinical impact, and\\nmanagement. Heart Fail Rev. 2019;24(2):189-97.\\n\\n17. Forouhi NG, Koulman A, Sharp SJ, Imamura F, Kroger J, Schulze MB, et al.\\n\\nDifferences in the prospective association between individual plasma phospholipid\\n\\n2\\n\\x0c\",\n",
              " 23: 'saturated fatty acids and incident type 2 diabetes: the EPIC-InterAct case-cohort study.\\nThe lancet Diabetes & endocrinology. 2014;2(10):810-8.\\n\\n18. Lemaitre RN, Fretts AM, Sitlani CM, Biggs ML, Mukamal K, King IB, et al. Plasma\\nphospholipid very-long-chain saturated fatty acids and incident diabetes in older adults:\\nthe Cardiovascular Health Study. The American journal of clinical nutrition.\\n2015;101(5):1047-54.\\n\\n[1 Karamichalakis N, Letsas KP, Vlachos K, Georgopoulos 5, Bakalakos A, Efremidis M,\\net al. Managing atrial fibrillation in the very elderly patient: challenges and solutions.\\nVascular health and risk management. 2015;11:555-62.\\n\\n20. _ Lipid Peroxidation in Atherosclerotic Cardiovascular Diseases. Antioxidants &\\nRedox Signaling. 2021;34(1):49-98.\\n\\n21. Pojjanapornpun S, Nolvachai Y, Aryusuk K, Kulsing C, Krisnangkura K, Marriott PJ.\\nlonic liquid phases with comprehensive two-dimensional gas chromatography of fatty\\n\\nacid methyl esters. Analytical and bioanalytical chemistry. 2018;410(19):4669-77.\\n\\n22. Folch J, Lees M, Stanley GHS. A SIMPLE METHOD FOR THE ISOLATION AND\\nPURIFICATION OF TOTAL LIPIDES FROM ANIMAL TISSUES. Journal of Biological Chemistry.\\n1957;226(1):497-509.\\n\\n23\\n\\x0c',\n",
              " 24: 'ประวัติหัวหน้าโครงการวิจัย\\n1. ข้อมูลส่วนตัว\\n\\nผู้ช่วยศาสตราจารย์ฐาปนี เริงฤทธิ์ ตําแหน่ง อาจารย์ ที่อยู่ เลขที่ 73/14-15 ถนนบางแวก แขวงบางไผ่\\n\\nเขตบางแค จังหวัดกรุงเทพมหานคร รหัสไปรษณีย์ 10160 โทรศัพท์มือถือ 089-7175210\\n\\nE-mai\\n\\n \\n\\nhapanee@nmu.ac.th\\n\\n2. ข้อมูลที่ทํางาน\\n\\nภาควิชาวิทยาศาสตร์การแพทย์พื้นฐาน โทรศัพท์ 02-244-3000 ต่อ 5828\\n\\n3. ข้อมูลการศึกษา\\n\\nระดับ                   คุณวุฒิ/วิชาเอก\\n\\nปริญญาเอก            ปรด.(สรีรวิทยาทาง\\nการแพทย์)\\n\\nปริญญาโท             วทม. (สรีรวิทยาทาง\\nการแพทย์)\\n\\nปริญญาตรี         วทบ.(ภายภาพบําบัด)\\n\\nสถานที่ศึกษา\\n\\nมหาวิทยาลัยขอนแก่น\\n\\nมหาวิทยาลัยขอนแก่น\\n\\nมหาวิทยาลัยขอนแก่น\\n\\nประเทศ\\nไทย\\n\\nไทย\\n\\nไทย\\n\\n26\\n\\x0c',\n",
              " 25: \"วัดิผู้ร่วมวิจัยท่านที่\\nประวัติผู้ร่วมวิจัยท่านที่ 1\\n\\n1. ข้อมูลส่วนตัว\\n\\nผู้ช่วยศาสตราจารย์เผดิมวุฒิ ธีระวงศ์สกุล ตําแหน่ง อาจารย์ ที่อยู่ เลขที่ 1484/255 คอนโดลุมพีนี รัชโยธิน ตึก\\n\\nบี ถนน พหลโยธิน ตําบล/แขวง จันทรเกษม อําเภอ/เขต จตุจักร จังหวัด กรุงเทพมหานคร รหัสไปรษณีย์ 10900\\n\\n.โทรศัพท์มือถือ 089-755-0510 E-mail padoemwut@nmu.ac.th\\n\\n2 ข้อมูลที่ทํางาน\\n\\nหน่วยอายุรศาสตร์หัวใจและหลอดเลือด ภาควิชาอายุรศาสตร์ โทรศัพท์ 02-244-3475\\n\\n3. ข้อมูลการศึกษา\\nระดับ\\n\\nปริญญาตรี\\nปริญญาโท\\n\\nเทียบเท่าปริญญาเอก\\n\\nเทียบเท่าปริญญาเอก\\n\\nเทียบเท่าปริญญาเอก\\n\\nหลังปริญญาเอก\\n\\nหลังปริญญาเอก\\n\\nคุณวุฒิ/วิชาเอก\\nแพทยศาสตร์บัณฑิต\\n\\nววิทยาศาสตร์การแพทย์\\n\\nวุฒิบัตรสาขา\\nอายุรศาสตร์ (แพทย\\nสภา)\\n\\nวุฒิบัตรสาขาโรคหัวใจ\\n'และหลอดเลือด\\n(แพทยสภา)\\n\\nวุฒิบัตรสาขาสรีระ\\nไฟฟ้าหัวใจคลินิค\\n(แพทยสภา)\\n\\nประกาศนียบัตร\\n\\nงานวิจัย สาขาสรีระ\\nไฟฟ้าหัวใจคลินิค\\n\\nประกาศนียบัตร\\n\\nสาขาวิศวกรรมข้อมูล\\n\\n(Data engineering)\\n\\nสถานที่ศึกษา\\nจุฬาลงกรณ์\\nมหาวิทยาลัย\\nจุฬาลงกรณ์\\nมหาวิทยาลัย\\nจุฬาลงกรณ์\\n\\nมหาวิทยาลัย\\n\\nจุฬาลงกรณ์\\nมหาวิทยาลัย\\n\\nจุฬาลงกรณ์\\nมหาวิทยาลัย\\n\\nUniversity of\\nMichigan, Ann Arbor\\n\\nMassachusetts\\nInstitute of\\n\\nTechnology (MIT)\\n\\nประเทศ\\nไทย\\n\\nไทย\\n\\nไทย\\n\\nไทย\\n\\nไทย\\n\\nสหรัฐอเมริกา\\n\\nสหรัฐอเมริกา\\n\\n25\\n\\x0c\",\n",
              " 26: 'วัดิผ้ร่วมวิจัยท่านที่\\nประวัติผู้ร่วมวิจัยท่านที่ 2\\n\\n1. ข้อมูลส่วนตัว\\n\\nนางสาวอภิญญา ชีวะพันธ์ ตําแหน่ง อาจาธย์ ที่อยู่ เลขที่ 88/150 ถนนรัชดาภิเษก (ท่าพระ-ตากสิน)\\n\\nตําบล/แขวง ดาวคะนอง อําเภอ/เขต ธนบุรี จังหวัดกรุงเทพฯ รหัสไปรษณีย์ 10600\\n\\nโทรศัพท์มือถือ 0972319064 6-กาล[| อฏไทษล@ททาน.ล๕.ป่า\\n\\n2 ข้อมูลที่ทํางาน\\n\\nภภาควิชาวิทยาศาสตร์การแพทย์พื้นฐาน โทรศัพท์ 02-244-3000 ต่อ 5830\\n\\n3. ข้อมูลการศึกษา\\n\\nระดับ             คุณวุฒิ/วิชาเอก             สถานที่ศึกษา\\n\\nปริญญาเอก        ปรัชญาตุษฎีบัณฑิต          มหาวิทยาลัยเทคโนโลยี\\n\\n(กําลังศึกษา)       (เทคโนโลยีชีวเคมี)           พระจอมเกล้าธนบุรี\\n\\nปริญญาโท         วิทยาศาสตรมหาบัณฑิต หมหาวิทยาลัยเทคโนโลยี\\n(เทคโนโลยีชีวเคมี)           พระจอมเกล้าธนบุรี\\n\\nปริญญาตรี         วิทยาศาสตรบัณฑิต (อาหาร มหาวิทยาลัยมหิดล\\n\\nและโภชนาการ)\\n\\nประเทศ\\n\\nไทย\\n\\nไทย\\n\\nไทย\\n\\n26\\n\\x0c'}"
            ]
          },
          "metadata": {},
          "execution_count": 26
        }
      ]
    },
    {
      "cell_type": "code",
      "source": [
        "print(output[1])"
      ],
      "metadata": {
        "colab": {
          "base_uri": "https://localhost:8080/"
        },
        "id": "ouaUYyDmGsqs",
        "outputId": "86eafffb-7271-421e-d977-6db1ace34928"
      },
      "execution_count": 27,
      "outputs": [
        {
          "output_type": "stream",
          "name": "stdout",
          "text": [
            " \n",
            "\n",
            " \n",
            "\n",
            " \n",
            "\n",
            "รายงานวิจัยฉบับสมบูรณ์\n",
            "\n",
            "4          ay\n",
            "ชื่อโครงการวิจัย\n",
            "\n",
            "ภายใต้แผนงานแผนปฏิบัติการด้านวิทยาศาสตร์ วิจัยและนวัตกรรม ของหน่วยงาน\n",
            "มหาวิทยาลัยนวมินทราธิราช ปีงบประมาณ 2567\n",
            "\n",
            "ชื่อผู้วิจัย/คณะผู้วิจัย\n",
            "\n",
            "ผู้ช่วยศาสตราจารย์ฐาปนี เริงฤทธิ์\n",
            "ผู้ช่วยศาสตราจารย์เผดิมวุฒิ ธีระวงศ์สกุล\n",
            "นางสาวอภิญญา ชีวะพันธ์\n",
            "ทุนเงินอุดหนุนการทํากิจกรรมส่งเสริมและสนับสนุนการพัฒนาวิทยาศาสตร์ วิจัยและ\n",
            "\n",
            "นวัตกรรม (ววน.) ประจําปีงบประมาณ 2567\n",
            "\n",
            " \n",
            "\n",
            " \n",
            "\f\n"
          ]
        }
      ]
    },
    {
      "cell_type": "code",
      "source": [],
      "metadata": {
        "id": "QnvHer85IrQt"
      },
      "execution_count": null,
      "outputs": []
    }
  ]
}